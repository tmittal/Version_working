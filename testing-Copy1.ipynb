{
 "cells": [
  {
   "cell_type": "code",
   "execution_count": 3,
   "metadata": {
    "collapsed": false
   },
   "outputs": [],
   "source": [
    "import PyMagmaCh.A1_domain.domain as dmn\n",
    "import time, copy\n",
    "import numpy as np\n",
    "from PyMagmaCh.A1_domain.field import Field\n",
    "from PyMagmaCh.A1_domain.domain import _Domain\n",
    "from PyMagmaCh.utils import constants as const\n",
    "from PyMagmaCh.process.process import Process,get_axes\n",
    "from PyMagmaCh.process.time_dependent_process import TimeDependentProcess\n",
    "from PyMagmaCh.utils.walk import walk_processes\n"
   ]
  },
  {
   "cell_type": "code",
   "execution_count": 6,
   "metadata": {
    "collapsed": false
   },
   "outputs": [
    {
     "data": {
      "text/plain": [
       "1.0"
      ]
     },
     "execution_count": 6,
     "metadata": {},
     "output_type": "execute_result"
    }
   ],
   "source": []
  },
  {
   "cell_type": "code",
   "execution_count": 2,
   "metadata": {
    "collapsed": false
   },
   "outputs": [],
   "source": [
    "z_clmn, atm_slab =dmn.z_column_atm()\n",
    "z_clmn.name = 'z_clmn'\n",
    "atm_slab.name = atm_slab.domain_type\n",
    "\n",
    "A = np.linspace(1,10,10)\n",
    "a1 = Field(A,domain = z_clmn,axis = {'1':z_clmn.axes['depth'].axis_type,'2':z_clmn.axes['depth'].axis_type})\n",
    "a1.name='a1'\n",
    "\n",
    "B = np.linspace(1,120,10)\n",
    "b1 = Field(B,domain = z_clmn,axis = z_clmn.axes['depth'].axis_type)\n",
    "b1.name='b1'\n",
    "\n"
   ]
  },
  {
   "cell_type": "code",
   "execution_count": 61,
   "metadata": {
    "collapsed": false
   },
   "outputs": [],
   "source": [
    "a2 = Process(state=a1, domains=z_clmn, name_inp='a2')\n",
    "a3 = TimeDependentProcess(state=a1, domains=z_clmn, name_inp='a3')"
   ]
  },
  {
   "cell_type": "code",
   "execution_count": 62,
   "metadata": {
    "collapsed": false
   },
   "outputs": [],
   "source": [
    "import numpy as np\n",
    "from scipy import integrate\n",
    "from PyMagmaCh.process.time_dependent_process import TimeDependentProcess\n",
    "from PyMagmaCh.utils import constants as const\n",
    "from PyMagmaCh.utils import model_degruyter as md_deg\n",
    "from PyMagmaCh.A1_domain.field import Field\n",
    "\n",
    "class Chamber_model(TimeDependentProcess):\n",
    "    '''\n",
    "    Parent class for box model of a magma chamber -\n",
    "    Typically solve for P,V,T + other things\n",
    "    Sequence - solve coupled ode's for the variables\n",
    "    '''\n",
    "    def __init__(self,chamber_shape=None,**kwargs):\n",
    "        super(Chamber_model, self).__init__(**kwargs)\n",
    "        self.process_type = 'explicit'\n",
    "        self.chamber_shape = chamber_shape\n",
    "        # this keeps track of variables to solve later, default is false for all state var\n",
    "        self.solve_me ={}  \n",
    "        for varname, value in self.state.items():\n",
    "            self.solve_me.update({varname: False})\n",
    "\n",
    "    def func_ode(self,t,X, arg1):\n",
    "        '''Specify the coupled ode functions to integrate forward ..\n",
    "        This method should be over-ridden by daughter classes.'''\n",
    "        pass\n",
    "\n",
    "    def ode_solver(self):\n",
    "        '''Need to specify - solve_me state variable in the daughter classes.\n",
    "        Also need to make the state variables a function of time\n",
    "        (i.e. start at t = 0, then move append value in the field)\n",
    "        Need to be careful of the sequence in state.items()\n",
    "        '''\n",
    "        max_t = self.param['timestep']      # Total integration time (seconds)\n",
    "        X_init = np.array([])\n",
    "        X_init_var = np.array([])\n",
    "        for varname, value in self.state.items():\n",
    "            try:\n",
    "                if (self.solve_me[varname] == True):\n",
    "                    tmp1 = self.state[varname][-1]\n",
    "                    X_init = np.append(X_init,tmp1)\n",
    "                    X_init_var = np.append(X_init_var,varname)\n",
    "            except:\n",
    "                pass\n",
    "        tmp2 = integrate.ode(func_ode).set_integrator('dopri5',nsteps=1e8)\n",
    "        tmp2.set_initial_value(X_init,0.0).set_f_params(X_init_var)\n",
    "        X_new = tmp2.integrate(tmp2.t+max_t)\n",
    "        state_var_update_func(X_new)\n",
    "\n",
    "    def state_var_update_func(self,X_new):\n",
    "        ''' A daughter can over-write this to save more variables if needed ...\n",
    "        '''\n",
    "        counter = 0\n",
    "        for varname, value in self.state.items():\n",
    "            try:\n",
    "                if (self.solve_me[varname] == True):\n",
    "                    tmp1 = Field(np.append(self.state[varname],X_new[counter]),\n",
    "                            domain = self.state[varname].domain,\n",
    "                            axis = self.state[varname].axis)\n",
    "                    self.state[varname] = tmp1 # append with each timestep\n",
    "                    counter += 1\n",
    "            except:\n",
    "                pass\n",
    "\n",
    "    def compute(self):\n",
    "        '''Update all diagnostic quantities using current model state.'''\n",
    "        self.ode_solver()\n"
   ]
  },
  {
   "cell_type": "code",
   "execution_count": 65,
   "metadata": {
    "collapsed": true
   },
   "outputs": [],
   "source": [
    "AA = np.random.rand(19)\n",
    "aa1 = Field(AA,domain = z_clmn,axis = {'1':z_clmn.axes['depth'].axis_type,'2':z_clmn.axes['depth'].axis_type})\n",
    "aa1.name='P'\n",
    "\n",
    "a4 = Chamber_model(state={'P':aa1}, domains=z_clmn, name_inp='a4')"
   ]
  },
  {
   "cell_type": "code",
   "execution_count": 67,
   "metadata": {
    "collapsed": false
   },
   "outputs": [
    {
     "data": {
      "text/plain": [
       "array([ 0.1315295 ,  0.58423372,  0.05424809,  0.30639786,  0.603604  ,\n",
       "        0.18005369,  0.18844863,  0.41152142,  0.47604979,  0.97877553,\n",
       "        0.27880188,  0.97365147,  0.41439366,  0.88397998,  0.1571695 ,\n",
       "        0.16786869,  0.99895208,  0.80771418,  0.40519893,  2.        ])"
      ]
     },
     "execution_count": 67,
     "metadata": {},
     "output_type": "execute_result"
    }
   ],
   "source": [
    "a4.state['P'].append_val(2)"
   ]
  },
  {
   "cell_type": "code",
   "execution_count": 102,
   "metadata": {
    "collapsed": false
   },
   "outputs": [
    {
     "data": {
      "text/plain": [
       "array([     0.,   1000.,   2000.,   3000.,   4000.,   5000.,   6000.,\n",
       "         7000.,   8000.,   9000.,  10000.,  11000.,  12000.,  13000.,\n",
       "        14000.,  15000.,  16000.,  17000.,  18000.,  19000.,  20000.,\n",
       "        21000.,  22000.,  23000.,  24000.,  25000.,  26000.,  27000.,\n",
       "        28000.,  29000.,  30000.])"
      ]
     },
     "execution_count": 102,
     "metadata": {},
     "output_type": "execute_result"
    }
   ],
   "source": [
    "for dom  in a4.domains.values():\n",
    "    a =1\n",
    "dom.axes['depth'].bounds"
   ]
  },
  {
   "cell_type": "code",
   "execution_count": null,
   "metadata": {
    "collapsed": true
   },
   "outputs": [],
   "source": []
  },
  {
   "cell_type": "code",
   "execution_count": 217,
   "metadata": {
    "collapsed": false
   },
   "outputs": [
    {
     "name": "stdout",
     "output_type": "stream",
     "text": [
      "1 2\n"
     ]
    }
   ],
   "source": [
    "i = 1\n",
    "j = 2\n",
    "ynum = 2\n",
    "xnum = j\n",
    "if(i==1 or i==ynum and j==xnum):\n",
    "    print(i,j)"
   ]
  },
  {
   "cell_type": "code",
   "execution_count": null,
   "metadata": {
    "collapsed": true
   },
   "outputs": [],
   "source": []
  },
  {
   "cell_type": "code",
   "execution_count": null,
   "metadata": {
    "collapsed": true
   },
   "outputs": [],
   "source": []
  },
  {
   "cell_type": "code",
   "execution_count": 8,
   "metadata": {
    "collapsed": false
   },
   "outputs": [
    {
     "ename": "ImportError",
     "evalue": "No module named 'PyMagmaCh.process.diagnostic'",
     "output_type": "error",
     "traceback": [
      "\u001b[1;31m---------------------------------------------------------------------------\u001b[0m",
      "\u001b[1;31mImportError\u001b[0m                               Traceback (most recent call last)",
      "\u001b[1;32m<ipython-input-8-e855b0d1658c>\u001b[0m in \u001b[0;36m<module>\u001b[1;34m()\u001b[0m\n\u001b[0;32m      1\u001b[0m \u001b[1;32mimport\u001b[0m \u001b[0mnumpy\u001b[0m \u001b[1;32mas\u001b[0m \u001b[0mnp\u001b[0m\u001b[1;33m\u001b[0m\u001b[0m\n\u001b[1;32m----> 2\u001b[1;33m \u001b[1;32mfrom\u001b[0m \u001b[0mPyMagmaCh\u001b[0m\u001b[1;33m.\u001b[0m\u001b[0mprocess\u001b[0m\u001b[1;33m.\u001b[0m\u001b[0mdiagnostic\u001b[0m \u001b[1;32mimport\u001b[0m \u001b[0mDiagnosticProcess\u001b[0m\u001b[1;33m\u001b[0m\u001b[0m\n\u001b[0m\u001b[0;32m      3\u001b[0m \u001b[1;32mfrom\u001b[0m \u001b[0mPyMagmaCh\u001b[0m\u001b[1;33m.\u001b[0m\u001b[0mA1_domain\u001b[0m\u001b[1;33m.\u001b[0m\u001b[0mfield\u001b[0m \u001b[1;32mimport\u001b[0m \u001b[0mField\u001b[0m\u001b[1;33m\u001b[0m\u001b[0m\n\u001b[0;32m      4\u001b[0m \u001b[1;33m\u001b[0m\u001b[0m\n\u001b[0;32m      5\u001b[0m \u001b[1;32mclass\u001b[0m \u001b[0mIceline\u001b[0m\u001b[1;33m(\u001b[0m\u001b[0mDiagnosticProcess\u001b[0m\u001b[1;33m)\u001b[0m\u001b[1;33m:\u001b[0m\u001b[1;33m\u001b[0m\u001b[0m\n",
      "\u001b[1;31mImportError\u001b[0m: No module named 'PyMagmaCh.process.diagnostic'"
     ]
    }
   ],
   "source": [
    "import numpy as np\n",
    "from PyMagmaCh.process.diagnostic import DiagnosticProcess\n",
    "from PyMagmaCh.A1_domain.field import Field\n",
    "\n",
    "class Iceline(DiagnosticProcess):\n",
    "    def __init__(self, Tf=-10., **kwargs):\n",
    "        super(DiagnosticProcess, self).__init__(**kwargs)\n",
    "        self.time_type = 'diagnostic'\n",
    "        self.param['Tf'] = Tf\n",
    "\n",
    "    def find_icelines(self):\n",
    "        Tf = self.param['Tf']\n",
    "        Ts = self.state['a1']\n",
    "        #lat_bounds = self.domains['a1'].axes['lat'].bounds\n",
    "        self.state['a1'] = self.state['a1']*19.\n",
    "        noice = np.where(Ts >= Tf, True, False)\n",
    "        ice = np.where(Ts < Tf, True, False)\n",
    "        self.diagnostics['noice'] = noice\n",
    "        self.diagnostics['ice'] = ice\n",
    "        if ice.all():\n",
    "            # 100% ice cover\n",
    "            icelat = np.array([-0., 0.])\n",
    "        elif noice.all():\n",
    "            # zero ice cover\n",
    "            icelat = np.array([-90., 90.])\n",
    "        else:  # there is some ice edge\n",
    "            # Taking np.diff of a boolean array gives True at the boundaries between True and False\n",
    "            boundary_indices = np.where(np.diff(ice.squeeze()))[0] + 1\n",
    "            #icelat = lat_bounds[boundary_indices]  # an array of boundary latitudes\n",
    "        #self.diagnostics['icelat'] = icelat\n",
    "\n",
    "\n",
    "    def compute(self):\n",
    "        print(self.param['Tf'])\n",
    "        self.find_icelines()\n",
    "\n",
    "\n",
    "class StepFunctionAlbedo(DiagnosticProcess):\n",
    "    def __init__(self, Tf=-10., a0=0.3, a2=0.078, ai=0.62, **kwargs):\n",
    "        super(DiagnosticProcess, self).__init__(**kwargs)\n",
    "        self.param['Tf'] = Tf\n",
    "        self.param['a0'] = a0\n",
    "        self.param['a2'] = a2\n",
    "        self.param['ai'] = ai\n",
    "        sfc = self.domains_var['a1']\n",
    "        self.add_subprocess('iceline', Iceline(Tf=4, state=self.state))\n",
    "        self.add_subprocess('iceline2', Iceline(Tf=2, state=self.state))\n",
    "        self.topdown = False  # call subprocess compute methods first\n",
    "        self.time_type = 'diagnostic'\n",
    "\n",
    "    def _get_current_albedo(self):\n",
    "        '''Simple step-function albedo based on ice line at temperature Tf.'''\n",
    "        ice = self.subprocess['iceline'].diagnostics['ice']\n",
    "        # noice = self.subprocess['iceline'].diagnostics['noice']\n",
    "        albedo = Field(np.where(ice, 1., 0.), domain=self.domains_var['a1'])\n",
    "        return albedo\n",
    "\n",
    "    def compute(self):\n",
    "        self.diagnostics['albedo'] = self._get_current_albedo()\n",
    "\n"
   ]
  },
  {
   "cell_type": "code",
   "execution_count": 7,
   "metadata": {
    "collapsed": false
   },
   "outputs": [
    {
     "ename": "NameError",
     "evalue": "name 'StepFunctionAlbedo' is not defined",
     "output_type": "error",
     "traceback": [
      "\u001b[1;31m---------------------------------------------------------------------------\u001b[0m",
      "\u001b[1;31mNameError\u001b[0m                                 Traceback (most recent call last)",
      "\u001b[1;32m<ipython-input-7-7f407093ffb4>\u001b[0m in \u001b[0;36m<module>\u001b[1;34m()\u001b[0m\n\u001b[1;32m----> 1\u001b[1;33m \u001b[0mc2\u001b[0m \u001b[1;33m=\u001b[0m \u001b[0mStepFunctionAlbedo\u001b[0m\u001b[1;33m(\u001b[0m\u001b[0mstate\u001b[0m\u001b[1;33m=\u001b[0m\u001b[0ma1\u001b[0m\u001b[1;33m)\u001b[0m\u001b[1;33m\u001b[0m\u001b[0m\n\u001b[0m\u001b[0;32m      2\u001b[0m \u001b[0mc2\u001b[0m\u001b[1;33m.\u001b[0m\u001b[0mstep_forward\u001b[0m\u001b[1;33m(\u001b[0m\u001b[1;33m)\u001b[0m\u001b[1;33m\u001b[0m\u001b[0m\n\u001b[0;32m      3\u001b[0m \u001b[0mc2\u001b[0m\u001b[1;33m.\u001b[0m\u001b[0mdiagnostics\u001b[0m\u001b[1;33m\u001b[0m\u001b[0m\n",
      "\u001b[1;31mNameError\u001b[0m: name 'StepFunctionAlbedo' is not defined"
     ]
    }
   ],
   "source": [
    "c2 = StepFunctionAlbedo(state=a1)\n",
    "c2.step_forward()\n",
    "c2.diagnostics"
   ]
  },
  {
   "cell_type": "code",
   "execution_count": null,
   "metadata": {
    "collapsed": false
   },
   "outputs": [],
   "source": []
  },
  {
   "cell_type": "code",
   "execution_count": 134,
   "metadata": {
    "collapsed": false
   },
   "outputs": [
    {
     "data": {
      "text/plain": [
       "{'adjustment': [],\n",
       " 'diagnostic': [<__main__.Iceline at 0x7f029265c828>,\n",
       "  <__main__.Iceline at 0x7f029265cc88>,\n",
       "  <__main__.StepFunctionAlbedo at 0x7f029265c390>],\n",
       " 'explicit': [],\n",
       " 'implicit': []}"
      ]
     },
     "execution_count": 134,
     "metadata": {},
     "output_type": "execute_result"
    }
   ],
   "source": [
    "c2._build_process_type_list()\n",
    "c2.process_types"
   ]
  },
  {
   "cell_type": "code",
   "execution_count": null,
   "metadata": {
    "collapsed": false
   },
   "outputs": [],
   "source": []
  },
  {
   "cell_type": "code",
   "execution_count": 243,
   "metadata": {
    "collapsed": false
   },
   "outputs": [],
   "source": [
    "#X_init_var = np.array([])\n",
    "for varname, value in  c2.state.items() :\n",
    "    X_init_var = np.append(X_init_var,varname)"
   ]
  },
  {
   "cell_type": "code",
   "execution_count": 286,
   "metadata": {
    "collapsed": false
   },
   "outputs": [],
   "source": [
    "c2.solve_me ={}\n",
    "for varname, value in c2.state.items():\n",
    "            c2.solve_me.update({varname: False})\n"
   ]
  },
  {
   "cell_type": "code",
   "execution_count": 293,
   "metadata": {
    "collapsed": false
   },
   "outputs": [
    {
     "data": {
      "text/plain": [
       "{'aa': 1,\n",
       " 'albedo': Field([ 1.,  1.,  1.,  0.,  0.,  0.,  0.,  0.,  0.,  0.]),\n",
       " 'ice': Field([ True,  True,  True, False, False, False, False, False, False, False], dtype=bool),\n",
       " 'noice': Field([False, False, False,  True,  True,  True,  True,  True,  True,  True], dtype=bool)}"
      ]
     },
     "execution_count": 293,
     "metadata": {},
     "output_type": "execute_result"
    }
   ],
   "source": [
    "c2.diagnostics"
   ]
  },
  {
   "cell_type": "code",
   "execution_count": 103,
   "metadata": {
    "collapsed": true
   },
   "outputs": [],
   "source": [
    "def melting_curve_degruyter(T,eta_g,b = 0.5,T_s=973.0,T_l=1223.0):\n",
    "    \"\"\"Compute melt fraction-temperature relationship.\n",
    "\n",
    "    Input:  T is temperature in Kelvin\n",
    "            eta_g is gas volume fraction\n",
    "            b is an exponent to approximate composition (1 = mafic, 0.5 = silicic)\n",
    "            T_s is solidus temperature in Kelvin (Default value = 973 K)\n",
    "            T_l is liquidus temperature in Kelvin (Default value = 1223 K)\n",
    "    Output: eta_x,deta_x_dT,deta_x_deta_g (eta_x is crystal volume fraction, others are its derivative with T and eta_g)\n",
    "    \"\"\"\n",
    "    temp1 = T - T_s\n",
    "    temp2 = T_l - T_s\n",
    "    eta_x = (1. - eta_g)*(1. - (temp1/temp2)**b)\n",
    "    deta_x_dT = (1. - eta_g)*(-b*(temp1)**(b-1.)/(temp2)**b)\n",
    "    deta_x_deta_g = -1.*(1. - (temp1/temp2)**b)\n",
    "    return eta_x,deta_x_dT,deta_x_deta_g"
   ]
  },
  {
   "cell_type": "code",
   "execution_count": 104,
   "metadata": {
    "collapsed": true
   },
   "outputs": [],
   "source": [
    "eta_x,deta_x_dT,deta_x_deta_g = melting_curve_degruyter(1000,.2)"
   ]
  },
  {
   "cell_type": "code",
   "execution_count": null,
   "metadata": {
    "collapsed": false
   },
   "outputs": [],
   "source": []
  },
  {
   "cell_type": "code",
   "execution_count": null,
   "metadata": {
    "collapsed": true
   },
   "outputs": [],
   "source": []
  },
  {
   "cell_type": "code",
   "execution_count": null,
   "metadata": {
    "collapsed": true
   },
   "outputs": [],
   "source": []
  },
  {
   "cell_type": "code",
   "execution_count": null,
   "metadata": {
    "collapsed": false
   },
   "outputs": [],
   "source": []
  },
  {
   "cell_type": "code",
   "execution_count": null,
   "metadata": {
    "collapsed": true
   },
   "outputs": [],
   "source": []
  }
 ],
 "metadata": {
  "kernelspec": {
   "display_name": "Python 3",
   "language": "python",
   "name": "python3"
  },
  "language_info": {
   "codemirror_mode": {
    "name": "ipython",
    "version": 3
   },
   "file_extension": ".py",
   "mimetype": "text/x-python",
   "name": "python",
   "nbconvert_exporter": "python",
   "pygments_lexer": "ipython3",
   "version": "3.5.2"
  }
 },
 "nbformat": 4,
 "nbformat_minor": 0
}
